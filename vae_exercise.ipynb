{
 "cells": [
  {
   "cell_type": "markdown",
   "metadata": {
    "colab_type": "text",
    "id": "Oa3SQaXdlWP0"
   },
   "source": [
    "## Simple Autoencoders and Variational Autoencoders\n",
    "\n",
    "This exercise will guide you through creating a regular autoencoder and a variational one. We'll also sample from the learned latent spaces to illustrate how much better variational autoencoders are at generative modeling. Along the way, we'll visualize the latent space produced by each of the autoencoders to get an idea of what's happening behind the scenes.\n",
    "\n",
    "To start, we'll create a simple autoencoder. Fill in the TODOs. The cell below just imports the necessary modules and takes care of device placement."
   ]
  },
  {
   "cell_type": "code",
   "execution_count": 2,
   "metadata": {
    "colab": {},
    "colab_type": "code",
    "id": "hf5exvsMkxD-"
   },
   "outputs": [],
   "source": [
    "import os\n",
    "import torch\n",
    "import torch as T\n",
    "import torch.nn as nn\n",
    "import torch.nn.functional as F\n",
    "import torch.optim as optim\n",
    "import torchvision\n",
    "import torchvision.transforms as tvtransforms\n",
    "import torchvision.utils as vutils\n",
    "from torch.utils.data import TensorDataset\n",
    "import numpy as np\n",
    "\n",
    "img_shape = (1, 28, 28)\n",
    "device = torch.device(\"cuda:0\" if torch.cuda.is_available() else \"cpu\")\n",
    "batch_size = 64"
   ]
  },
  {
   "cell_type": "code",
   "execution_count": 0,
   "metadata": {
    "colab": {},
    "colab_type": "code",
    "id": "hf5exvsMkxD-"
   },
   "outputs": [],
   "source": [
    "class Autoencoder(nn.Module):\n",
    "\n",
    "    def __init__(self, latent_size):\n",
    "        # One of the arguments in the constructor is latent_size, which\n",
    "        # indicates how many nodes you want to downsample the input to.\n",
    "        # Recall the encoding portion of AE reduces dimensionality of the input\n",
    "\n",
    "        super(Autoencoder, self).__init__()\n",
    "        self.latent_size = latent_size\n",
    "        # We'll be working with MNIST, so the input dimension will be 784.\n",
    "        self.encoder1 = nn.Linear(784, 512)\n",
    "        # TODO: Create two more encoding layers that successively downscale the input\n",
    "        self.encoder2 = ???\n",
    "        self.encoder3 = ???\n",
    "        \n",
    "        # reduced dimensionality of input (final encoding)\n",
    "        self.bottleneck = nn.Linear(128, latent_size)\n",
    "\n",
    "        # decoding portion of AE, take encoded data and decode to original dimensionality\n",
    "        self.decoder1 = nn.Linear(latent_size, 128)\n",
    "        self.decoder2 = nn.Linear(128, 256)\n",
    "        self.decoder3 = nn.Linear(256, 512)\n",
    "        # output original dimensionality (784 in the case of MNIST)\n",
    "        self.out = nn.Linear(512, 784)\n",
    "    \n",
    "    def encode(self, x):\n",
    "        enc1 = F.relu(self.encoder1(x))\n",
    "        enc2 = F.relu(self.encoder2(enc1))\n",
    "        enc3 = F.relu(self.encoder3(enc2))\n",
    "        encoded_representation = self.bottleneck(enc3)\n",
    "        return encoded_representation\n",
    "    \n",
    "    def decode(self, x):\n",
    "        dec1 = F.relu(self.decoder1(x))\n",
    "        dec2 = F.relu(self.decoder2(dec1))\n",
    "        dec3 = F.relu(self.decoder3(dec2))\n",
    "        out = self.out(dec3)\n",
    "        return out\n",
    "        \n",
    "    def forward(self, x):\n",
    "        # forward mode, pass input through activation funtions\n",
    "        # Simple!\n",
    "        decoded = self.decode(self.encode(x))\n",
    "        return decoded\n",
    "        "
   ]
  },
  {
   "cell_type": "markdown",
   "metadata": {
    "colab_type": "text",
    "id": "W6XxTFfTn7ea"
   },
   "source": [
    "## Read in MNIST Data\n",
    "We'll use these loaders for training and testing our autoencoders."
   ]
  },
  {
   "cell_type": "code",
   "execution_count": 0,
   "metadata": {
    "colab": {},
    "colab_type": "code",
    "id": "b1eqkCU6np5i"
   },
   "outputs": [],
   "source": [
    "batch_size = 64\n",
    "os.makedirs(\"data/mnist\", exist_ok=True)\n",
    "train_loader = torch.utils.data.DataLoader(\n",
    "    torchvision.datasets.MNIST(\n",
    "        \"data/mnist\",\n",
    "        train=True,\n",
    "        download=True,\n",
    "        transform=tvtransforms.Compose(\n",
    "            [tvtransforms.ToTensor()]\n",
    "        ),\n",
    "    ),\n",
    "    batch_size=batch_size,\n",
    "    drop_last=True,\n",
    "    num_workers=2,\n",
    "    shuffle=True,\n",
    ")\n",
    "test_loader = torch.utils.data.DataLoader(\n",
    "    torchvision.datasets.MNIST(\n",
    "        \"data/mnist\",\n",
    "        train=False,\n",
    "        download=True,\n",
    "        transform=tvtransforms.Compose(\n",
    "            [tvtransforms.ToTensor()]\n",
    "        ),\n",
    "    ),\n",
    "    batch_size=batch_size,\n",
    "    drop_last=True,\n",
    "    num_workers=2,\n",
    "    shuffle=True,\n",
    ")"
   ]
  },
  {
   "cell_type": "code",
   "execution_count": 1,
   "metadata": {
    "colab": {},
    "colab_type": "code",
    "id": "jsOOYH0mk3fR"
   },
   "outputs": [
    {
     "ename": "NameError",
     "evalue": "name 'Autoencoder' is not defined",
     "output_type": "error",
     "traceback": [
      "\u001b[0;31m---------------------------------------------------------------------------\u001b[0m",
      "\u001b[0;31mNameError\u001b[0m                                 Traceback (most recent call last)",
      "\u001b[0;32m<ipython-input-1-a74ae9821dbe>\u001b[0m in \u001b[0;36m<module>\u001b[0;34m\u001b[0m\n\u001b[1;32m      3\u001b[0m \u001b[0mlatent_size\u001b[0m \u001b[0;34m=\u001b[0m \u001b[0;36m20\u001b[0m\u001b[0;34m\u001b[0m\u001b[0;34m\u001b[0m\u001b[0m\n\u001b[1;32m      4\u001b[0m \u001b[0;34m\u001b[0m\u001b[0m\n\u001b[0;32m----> 5\u001b[0;31m \u001b[0mmodel\u001b[0m \u001b[0;34m=\u001b[0m \u001b[0mAutoencoder\u001b[0m\u001b[0;34m(\u001b[0m\u001b[0mlatent_size\u001b[0m\u001b[0;34m)\u001b[0m\u001b[0;34m\u001b[0m\u001b[0;34m\u001b[0m\u001b[0m\n\u001b[0m\u001b[1;32m      6\u001b[0m \u001b[0moptimizer\u001b[0m \u001b[0;34m=\u001b[0m \u001b[0moptim\u001b[0m\u001b[0;34m.\u001b[0m\u001b[0mAdam\u001b[0m\u001b[0;34m(\u001b[0m\u001b[0mmodel\u001b[0m\u001b[0;34m.\u001b[0m\u001b[0mparameters\u001b[0m\u001b[0;34m(\u001b[0m\u001b[0;34m)\u001b[0m\u001b[0;34m,\u001b[0m \u001b[0mlr\u001b[0m\u001b[0;34m=\u001b[0m\u001b[0mlr\u001b[0m\u001b[0;34m)\u001b[0m\u001b[0;34m\u001b[0m\u001b[0;34m\u001b[0m\u001b[0m\n\u001b[1;32m      7\u001b[0m \u001b[0mcriterion\u001b[0m \u001b[0;34m=\u001b[0m \u001b[0mnn\u001b[0m\u001b[0;34m.\u001b[0m\u001b[0mMSELoss\u001b[0m\u001b[0;34m(\u001b[0m\u001b[0;34m)\u001b[0m\u001b[0;34m\u001b[0m\u001b[0;34m\u001b[0m\u001b[0m\n",
      "\u001b[0;31mNameError\u001b[0m: name 'Autoencoder' is not defined"
     ]
    }
   ],
   "source": [
    "lr = .001\n",
    "epochs = 5\n",
    "latent_size = 20 # Size of the bottleneck layer\n",
    "ae = Autoencoder(latent_size).to(device)\n",
    "ae_optimizer = optim.Adam(model.parameters(), lr=lr)\n",
    "# TODO: what should the loss function be here for real-valued outputs?\n",
    "criterion = ??? \n",
    "for epoch in range(1, epochs + 1):\n",
    "     for data, _ in train_loader:\n",
    "         optimizer.zero_grad()\n",
    "         data = data.view(-1, 28*28) # Reshape the MNIST image to batch_size x 784\n",
    "         output = ae.forward(data)\n",
    "         loss = criterion(output, data)\n",
    "         loss.backward()\n",
    "         optimizer.step()\n",
    "     print('Epoch: {}/{}.............{}'.format(epoch, epochs, loss.item()), end='\\n')"
   ]
  },
  {
   "cell_type": "markdown",
   "metadata": {},
   "source": [
    "Now that we have a trained autoencoder, lets sample from the latent space and generate new images. Remember the idea with generative modeling is to produce samples that are likely under the training set. In this case, samples from our autoencoder should resemble MNIST digits. To do this, we'll draw random samples from a normal distribution and pass it through the decoding section of the autoencoder. "
   ]
  },
  {
   "cell_type": "code",
   "execution_count": null,
   "metadata": {},
   "outputs": [],
   "source": [
    "latent_sample = torch.randn(16, latent_size) # 16 instances of vectors of size latent_size drawn from a normal.\n",
    "\n",
    "with torch.no_grad():\n",
    "    \n",
    "    decoded_digits = ae.??? # What should go here?\n",
    "\n",
    "    decoded_digits = decoded_digits.detach().cpu().view(-1, 28, 28) # Reshape into images.\n",
    "\n",
    "ae_grid = vutils.make_grid(decoded_digits, nrow=4)\n",
    "ae_grid = ae_grid.permute(1, 2, 0)\n",
    "plt.figure(figsize=(13, 10))\n",
    "plt.imshow(ae_grid)"
   ]
  },
  {
   "cell_type": "markdown",
   "metadata": {},
   "source": [
    "What's going on here? The decoded digits look bad. We can't sample easily from the latent space of the regular autoencoder because we don't know where to look in this high-dimensional latent space. You can get lucky and actually produce real looking digits, but in a large-dimensional latent space this becomes pretty hard. The solution to this is to use a variational autoencoder."
   ]
  },
  {
   "cell_type": "markdown",
   "metadata": {
    "colab_type": "text",
    "id": "bYS94viHljyR"
   },
   "source": [
    "## Variational Autoencoder\n",
    "\n",
    "![On the left is the regular autoencoder and on the right the variational one.](vae.png)\n",
    "\n",
    "The figure above shows a regular autoencoder on the left and a variational autoencoder on the right. The variational autoencoder learns the variance and the mean of a normal distribution that we sample from to generate images. The regular autoencoder just learns an arbitrary encoded representation. Something that I missed when reading the paper is that the layer that outputs the variance should actually be interpreted as generating the log(variance). Keep this in mind when implementing the class below."
   ]
  },
  {
   "cell_type": "code",
   "execution_count": null,
   "metadata": {
    "colab": {
     "base_uri": "https://localhost:8080/",
     "height": 372
    },
    "colab_type": "code",
    "id": "D46_dTBblnZL",
    "outputId": "1be236ac-8439-4a32-fcc3-b56b8256b28e"
   },
   "outputs": [],
   "source": [
    "class VAE(nn.Module):\n",
    "    \n",
    "    def __init__(self, latent_size):\n",
    "        super(VAE, self).__init__()\n",
    "        # Since you already coded the fully connected layers for the autoencoder, we won't\n",
    "        # make you do it again.\n",
    "        self.latent_size = latent_size\n",
    "        self.activation = F.relu\n",
    "        self.efc1 = nn.Linear(784, 256)\n",
    "        self.efc2 = nn.Linear(256, 128)\n",
    "        self.efc3 = nn.Linear(128, 64)\n",
    "        \n",
    "        # TODO: what is the bottleneck layer in the variational autoencoder supposed\n",
    "        # to output? Refer to the figure above. \n",
    "        self.??? = \n",
    "        self.??? = \n",
    "\n",
    "        # TODO: copy decoding code from your autoencoder class\n",
    "        self.dfc1 = nn.Linear(latent_size, 256)\n",
    "        self.dfc2 = nn.Linear(256, 512)\n",
    "        self.dfc3 = nn.Linear(512, 784)\n",
    "    \n",
    "    def encode(self, x):\n",
    "        x = self.efc1(x)\n",
    "        x = self.activation(x)\n",
    "        x = self.efc2(x)\n",
    "        x = self.activation(x)\n",
    "        x = self.efc3(x)\n",
    "        x = self.activation(x)\n",
    "        # TODO: We're learning mean and variance vectors in the encoding step.\n",
    "        # What layers should go here?\n",
    "        return ???\n",
    "    \n",
    "    \n",
    "    def decode(self, z):\n",
    "        x = self.dfc1(z)\n",
    "        x = self.activation(x)\n",
    "        x = self.dfc2(x)\n",
    "        x = self.activation(x)\n",
    "        x = self.dfc3(x)\n",
    "        # The VAE seems to do a lot better on MNIST if we end the decoding \n",
    "        # step with a sigmoid and use binary cross entropy.\n",
    "        return torch.sigmoid(x)\n",
    "    \n",
    "    def sample(self, logvariance, mu):\n",
    "        # TODO: how do you sample from the learned \n",
    "        # normal distribution? This is where the authors introduce the\n",
    "        # reparameterization trick (shown in the image below).\n",
    "        # The function torch.randn(dim0, dim1, ...) will be useful.\n",
    "        return z_sample\n",
    "        \n",
    "    def forward(self, x):\n",
    "        # TODO: create log(variance) and mean vectors with the encoder.\n",
    "        ???\n",
    "        # TODO: sample from the normal distribution described by the mean and variance vectors.\n",
    "        # This is where the authors use the reparameterization trick.\n",
    "        ???\n",
    "        # TODO: Reconstruct the image from the sampled latent vector.\n",
    "        ???\n",
    "        # Return the logvariance, mean, and reconstructed image for computing the loss.\n",
    "        return ???, ???, ???\n"
   ]
  },
  {
   "cell_type": "markdown",
   "metadata": {},
   "source": [
    "## The reparameterization trick \n",
    "![](reparam.png)\n",
    "\n",
    "We want to sample from the normal distribution whose mean and variance we learn. \n",
    "$$z = \\mu + \\sigma*\\epsilon,$$ where epsilon is drawn from $\\mathcal{N}(0, I)$. In our case, we're sampling from a N-dimensional normal distribution, but the formula stays the same.\n",
    "\n",
    "\n",
    "# KL Divergence\n",
    "Now we have to implement the KL divergence part of the loss function. The authors of the original paper say that\n",
    "$$D_{KL} = -\\frac{1}{2}*\\sum_j(1 + log(\\sigma_j^2) - \\mu_j^2 - \\sigma_j^2).$$\n",
    "\n",
    "The derivative will be taken care of by autodiff."
   ]
  },
  {
   "cell_type": "code",
   "execution_count": null,
   "metadata": {},
   "outputs": [],
   "source": [
    "def closed_form_kl_div(mu, logvariance):\n",
    "    # TODO: implement closed form KL divergence.\n",
    "    return ???"
   ]
  },
  {
   "cell_type": "code",
   "execution_count": 1,
   "metadata": {
    "colab": {
     "base_uri": "https://localhost:8080/",
     "height": 372
    },
    "colab_type": "code",
    "id": "D46_dTBblnZL",
    "outputId": "1be236ac-8439-4a32-fcc3-b56b8256b28e"
   },
   "outputs": [
    {
     "ename": "SyntaxError",
     "evalue": "invalid syntax (<ipython-input-1-18a60cb121fa>, line 17)",
     "output_type": "error",
     "traceback": [
      "\u001b[0;36m  File \u001b[0;32m\"<ipython-input-1-18a60cb121fa>\"\u001b[0;36m, line \u001b[0;32m17\u001b[0m\n\u001b[0;31m    kl_div = ???\u001b[0m\n\u001b[0m             ^\u001b[0m\n\u001b[0;31mSyntaxError\u001b[0m\u001b[0;31m:\u001b[0m invalid syntax\n"
     ]
    }
   ],
   "source": [
    "vae = VAE(latent_size).to(device)\n",
    "opt_vae = torch.optim.Adam(vae.parameters(), lr=lr)\n",
    "epochs = 5\n",
    "for epoch in range(epochs):\n",
    "    print('epoch', epoch+1)\n",
    "    for i, (real_imgs, _) in enumerate(train_loader, 0):\n",
    "        \n",
    "        real_imgs = real_imgs.to(device)\n",
    "\n",
    "        real_imgs = real_imgs.view(-1, 28*28)\n",
    "        vae.zero_grad()\n",
    "        \n",
    "        # TODO: Fill in return values that will be used to calculate the loss.\n",
    "        _, _, _ = vae.forward(real_imgs)\n",
    "        \n",
    "        # TODO: calculate the KL divergence.\n",
    "        kl_div = ???\n",
    "        # The VAE does a lot better if we use BCE\n",
    "        BCE = F.binary_cross_entropy(reconstructed_image_vae, real_imgs, reduction='sum')\n",
    "        # TODO: What should the total loss funcion be?\n",
    "        loss_vae = ???\n",
    "        \n",
    "        loss_vae.backward()\n",
    "        opt_vae.step()\n",
    "    print('Epoch: {}/{}.............{}'.format(epoch, epochs, loss_vae.item()), end='\\n')\n",
    "    "
   ]
  },
  {
   "cell_type": "code",
   "execution_count": 0,
   "metadata": {
    "colab": {
     "base_uri": "https://localhost:8080/",
     "height": 630
    },
    "colab_type": "code",
    "id": "FdniJXG3tXDf",
    "outputId": "6ea30dae-1997-4d09-cc84-e8b078d65ac6"
   },
   "outputs": [
    {
     "name": "stdout",
     "output_type": "stream",
     "text": [
      "torch.Size([3, 242, 242])\n"
     ]
    },
    {
     "data": {
      "text/plain": [
       "<matplotlib.image.AxesImage at 0x7eff10570978>"
      ]
     },
     "execution_count": 8,
     "metadata": {
      "tags": []
     },
     "output_type": "execute_result"
    },
    {
     "data": {
      "image/png": "[encoded data removed]",
      "text/plain": [
       "<Figure size 936x720 with 1 Axes>"
      ]
     },
     "metadata": {
      "tags": []
     },
     "output_type": "display_data"
    }
   ],
   "source": [
    "normal_z = torch.randn(batch_size, latent_size).to(device)\n",
    "with torch.no_grad():\n",
    "    out_vae = vae.decode(normal_z).cpu().detach()\n",
    "    out_vae = out_vae.view(-1, 1, 28, 28)\n",
    "    out_ae = ae.decode(normal_z).cpu().detach()\n",
    "    out_ae = out_ae.view(-1, 1, 28, 28)\n",
    "\n",
    "vae_grid = vutils.make_grid(out_vae, nrow=8)\n",
    "ae_grid = vutils.make_grid(out_ae, nrow=8)\n",
    "vae_grid = vae_grid.permute(1, 2, 0)\n",
    "ae_grid = ae_grid.permute(1, 2, 0)\n",
    "fig, ax = plt.subplots(ncols=2, figsize=(13, 10))\n",
    "ax[0].imshow(vae_grid)\n",
    "ax[1].imshow(ae_grid)\n",
    "ax[0].set_title(\"vae samples\")\n",
    "ax[1].set_title(\"ae samples\")"
   ]
  },
  {
   "cell_type": "markdown",
   "metadata": {},
   "source": [
    "The samples drawn from the VAE should look much better. Another way we can inspect the results is to visualize the latent space of both of the autoencoders. To do this, we'll use a dimensionality reduction technique called TSNE. We'll use the test set to do this."
   ]
  },
  {
   "cell_type": "markdown",
   "metadata": {
    "colab_type": "text",
    "id": "RqHf3Kl34EAu"
   },
   "source": []
  },
  {
   "cell_type": "code",
   "execution_count": null,
   "metadata": {},
   "outputs": [],
   "source": [
    "\n",
    "latent_reps_ae = np.zeros((batch_size*len(test_loader), latent_size)) \n",
    "# instances (batch_size * n_test) by latent_dim\n",
    "latent_reps_vae = np.zeros((batch_size*len(test_loader), latent_size)) \n",
    "labels = np.zeros((batch_size*len(test_loader)))\n",
    "\n",
    "for i, (real_img, label)  in enumerate(test_loader):\n",
    "    with torch.no_grad():\n",
    "        real_img = real_img.to(device)\n",
    "        real_img = real_img.view(-1, 28*28)\n",
    "        \n",
    "        ae_encoded = ae.encode(real_img).detach().cpu()\n",
    "        # TODO: How do you sample from the vae's latent space? First you need to generate\n",
    "        # log(variance) and mu, then sample from the normal dist. \n",
    "        ???, ??? = vae.encode(real_img)\n",
    "        vae_encoded = ???\n",
    "        \n",
    "        latent_reps_ae[i*batch_size:i*batch_size+batch_size, :] = ae_encoded\n",
    "        latent_reps_vae[i*batch_size:i*batch_size+batch_size, :] = z_sample\n",
    "        labels[i*batch_size:i*batch_size+batch_size] = label.cpu()"
   ]
  },
  {
   "cell_type": "code",
   "execution_count": null,
   "metadata": {},
   "outputs": [],
   "source": [
    "from sklearn.manifold import TSNE\n",
    "# Here is where we do the latent space dimensionality compression down to two dimensions\n",
    "vae_embed = TSNE(n_components=2).fit_transform(latent_reps_vae)\n",
    "ae_embed = TSNE(n_components=2).fit_transform(latent_reps_ae)"
   ]
  },
  {
   "cell_type": "code",
   "execution_count": null,
   "metadata": {},
   "outputs": [],
   "source": [
    "fig, ax = plt.subplots(ncols=2, figsize=(13, 11))\n",
    "for i in range(10):\n",
    "    ax[0].scatter(vae_embed[:, 0][labels==i], vae_embed[:, 1][labels==i], label=str(i))\n",
    "    ax[1].scatter(ae_embed[:, 0][labels==i], ae_embed[:, 1][labels==i], label=str(i))\n",
    "\n",
    "ax[0].legend()\n",
    "ax[1].legend()"
   ]
  },
  {
   "cell_type": "markdown",
   "metadata": {},
   "source": [
    "Further directions\n",
    "1. What happens if you set the latent_size to 2? Can the regular autoencoder generate reasonable images? Why do you think this is? (Visualizing the latent space without a TNSE embedding gives some insight into this.)\n"
   ]
  },
  {
   "cell_type": "code",
   "execution_count": null,
   "metadata": {},
   "outputs": [],
   "source": []
  }
 ],
 "metadata": {
  "accelerator": "GPU",
  "colab": {
   "collapsed_sections": [],
   "name": "AE_VAE.ipynb",
   "provenance": []
  },
  "kernelspec": {
   "display_name": "Python 3",
   "language": "python",
   "name": "python3"
  },
  "language_info": {
   "codemirror_mode": {
    "name": "ipython",
    "version": 3
   },
   "file_extension": ".py",
   "mimetype": "text/x-python",
   "name": "python",
   "nbconvert_exporter": "python",
   "pygments_lexer": "ipython3",
   "version": "3.7.3"
  }
 },
 "nbformat": 4,
 "nbformat_minor": 1
}
